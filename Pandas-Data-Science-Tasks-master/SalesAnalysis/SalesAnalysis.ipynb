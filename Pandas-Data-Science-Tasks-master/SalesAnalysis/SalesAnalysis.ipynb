{
 "cells": [
  {
   "cell_type": "markdown",
   "metadata": {},
   "source": [
    "# Sales Analysis"
   ]
  },
  {
   "cell_type": "markdown",
   "metadata": {},
   "source": [
    "#### Import necessary libraries"
   ]
  },
  {
   "cell_type": "code",
   "execution_count": null,
   "metadata": {},
   "outputs": [],
   "source": [
    "import os\n",
    "import pandas as pd"
   ]
  },
  {
   "cell_type": "markdown",
   "metadata": {},
   "source": [
    "#### Merge data from each month into one CSV"
   ]
  },
  {
   "cell_type": "code",
   "execution_count": null,
   "metadata": {},
   "outputs": [],
   "source": [
    "path = \"./Sales_Data\"\n",
    "files = [file for file in os.listdir(path) if not file.startswith('.')] # Ignore hidden files\n",
    "\n",
    "all_months_data = pd.DataFrame()\n",
    "\n",
    "for file in files:\n",
    "    current_data = pd.read_csv(path+\"/\"+file)\n",
    "    all_months_data = pd.concat([all_months_data, current_data])\n",
    "    \n",
    "all_months_data.to_csv(\"all_data_copy.csv\", index=False)\n",
    "    "
   ]
  },
  {
   "cell_type": "markdown",
   "metadata": {},
   "source": [
    "#### Read in updated dataframe"
   ]
  },
  {
   "cell_type": "code",
   "execution_count": null,
   "metadata": {},
   "outputs": [],
   "source": [
    "all_data = pd.read_csv(\"all_data.csv\")\n",
    "all_data.head()"
   ]
  },
  {
   "cell_type": "markdown",
   "metadata": {},
   "source": [
    "### Clean up the data!\n",
    "The first step in this is figuring out what we need to clean. I have found in practice, that you find things you need to clean as you perform operations and get errors. Based on the error, you decide how you should go about cleaning the data"
   ]
  },
  {
   "cell_type": "markdown",
   "metadata": {},
   "source": [
    "##### Drop rows of NAN"
   ]
  },
  {
   "cell_type": "code",
   "execution_count": null,
   "metadata": {},
   "outputs": [],
   "source": [
    "# Find NAN\n",
    "nan_df = all_data[all_data.isna().any(axis=1)]\n",
    "display(nan_df.head())\n",
    "\n",
    "all_data = all_data.dropna(how='all')\n",
    "all_data.head()"
   ]
  },
  {
   "cell_type": "markdown",
   "metadata": {},
   "source": [
    "##### Get rid of text in order date column"
   ]
  },
  {
   "cell_type": "code",
   "execution_count": null,
   "metadata": {},
   "outputs": [],
   "source": [
    "all_data = all_data[all_data['Order Date'].str[0:2]!='Or']"
   ]
  },
  {
   "cell_type": "markdown",
   "metadata": {},
   "source": [
    "#### Make columns correct type"
   ]
  },
  {
   "cell_type": "code",
   "execution_count": null,
   "metadata": {},
   "outputs": [],
   "source": [
    "all_data['Quantity Ordered'] = pd.to_numeric(all_data['Quantity Ordered'])\n",
    "all_data['Price Each'] = pd.to_numeric(all_data['Price Each'])"
   ]
  },
  {
   "cell_type": "markdown",
   "metadata": {},
   "source": [
    "### Augment data with additional columns"
   ]
  },
  {
   "cell_type": "markdown",
   "metadata": {},
   "source": [
    "#### Add month column"
   ]
  },
  {
   "cell_type": "code",
   "execution_count": null,
   "metadata": {},
   "outputs": [],
   "source": [
    "all_data['Month'] = all_data['Order Date'].str[0:2]\n",
    "all_data['Month'] = all_data['Month'].astype('int32')\n",
    "all_data.head()"
   ]
  },
  {
   "cell_type": "markdown",
   "metadata": {},
   "source": [
    "#### Add month column (alternative method)"
   ]
  },
  {
   "cell_type": "code",
   "execution_count": null,
   "metadata": {},
   "outputs": [],
   "source": [
    "all_data['Month 2'] = pd.to_datetime(all_data['Order Date']).dt.month\n",
    "all_data.head()"
   ]
  },
  {
   "cell_type": "markdown",
   "metadata": {},
   "source": [
    "#### Add city column"
   ]
  },
  {
   "cell_type": "code",
   "execution_count": null,
   "metadata": {},
   "outputs": [],
   "source": [
    "def get_city(address):\n",
    "    return address.split(\",\")[1].strip(\" \")\n",
    "\n",
    "def get_state(address):\n",
    "    return address.split(\",\")[2].split(\" \")[1]\n",
    "\n",
    "all_data['City'] = all_data['Purchase Address'].apply(lambda x: f\"{get_city(x)}  ({get_state(x)})\")\n",
    "all_data.head()"
   ]
  },
  {
   "cell_type": "markdown",
   "metadata": {},
   "source": [
    "## Data Exploration!"
   ]
  },
  {
   "cell_type": "markdown",
   "metadata": {},
   "source": [
    "#### Question 1: What was the best month for sales? How much was earned that month? "
   ]
  },
  {
   "cell_type": "code",
   "execution_count": null,
   "metadata": {},
   "outputs": [],
   "source": [
    "all_data['Sales'] = all_data['Quantity Ordered'].astype('int') * all_data['Price Each'].astype('float')"
   ]
  },
  {
   "cell_type": "code",
   "execution_count": null,
   "metadata": {},
   "outputs": [],
   "source": [
    "all_data.groupby(['Month']).sum()"
   ]
  },
  {
   "cell_type": "code",
   "execution_count": null,
   "metadata": {},
   "outputs": [],
   "source": [
    "import matplotlib.pyplot as plt\n",
    "\n",
    "months = range(1,13)\n",
    "print(months)\n",
    "\n",
    "plt.bar(months,all_data.groupby(['Month']).sum()['Sales'])\n",
    "plt.xticks(months)\n",
    "plt.ylabel('Sales in USD ($)')\n",
    "plt.xlabel('Month number')\n",
    "plt.show()\n",
    "\n"
   ]
  },
  {
   "cell_type": "markdown",
   "metadata": {},
   "source": [
    "#### Question 2: What city sold the most product?"
   ]
  },
  {
   "cell_type": "code",
   "execution_count": null,
   "metadata": {},
   "outputs": [],
   "source": [
    "all_data.groupby(['City']).sum()"
   ]
  },
  {
   "cell_type": "code",
   "execution_count": null,
   "metadata": {},
   "outputs": [],
   "source": [
    "import matplotlib.pyplot as plt\n",
    "\n",
    "keys = [city for city, df in all_data.groupby(['City'])]\n",
    "\n",
    "plt.bar(keys,all_data.groupby(['City']).sum()['Sales'])\n",
    "plt.ylabel('Sales in USD ($)')\n",
    "plt.xlabel('Month number')\n",
    "plt.xticks(keys, rotation='vertical', size=8)\n",
    "plt.show()"
   ]
  },
  {
   "cell_type": "markdown",
   "metadata": {},
   "source": [
    "#### Question 3: What time should we display advertisements to maximize likelihood of customer's buying product?"
   ]
  },
  {
   "cell_type": "code",
   "execution_count": null,
   "metadata": {},
   "outputs": [],
   "source": [
    "# Add hour column\n",
    "all_data['Hour'] = pd.to_datetime(all_data['Order Date']).dt.hour\n",
    "all_data['Minute'] = pd.to_datetime(all_data['Order Date']).dt.minute\n",
    "all_data['Count'] = 1\n",
    "all_data.head()\n"
   ]
  },
  {
   "cell_type": "code",
   "execution_count": null,
   "metadata": {},
   "outputs": [],
   "source": [
    "keys = [pair for pair, df in all_data.groupby(['Hour'])]\n",
    "\n",
    "plt.plot(keys, all_data.groupby(['Hour']).count()['Count'])\n",
    "plt.xticks(keys)\n",
    "plt.grid()\n",
    "plt.show()\n",
    "\n",
    "# My recommendation is slightly before 11am or 7pm"
   ]
  },
  {
   "cell_type": "markdown",
   "metadata": {},
   "source": [
    "#### Question 4: What products are most often sold together?"
   ]
  },
  {
   "cell_type": "code",
   "execution_count": null,
   "metadata": {},
   "outputs": [],
   "source": [
    "# https://stackoverflow.com/questions/43348194/pandas-select-rows-if-id-appear-several-time\n",
    "df = all_data[all_data['Order ID'].duplicated(keep=False)]\n",
    "\n",
    "# Referenced: https://stackoverflow.com/questions/27298178/concatenate-strings-from-several-rows-using-pandas-groupby\n",
    "df['Grouped'] = df.groupby('Order ID')['Product'].transform(lambda x: ','.join(x))\n",
    "df2 = df[['Order ID', 'Grouped']].drop_duplicates()"
   ]
  },
  {
   "cell_type": "code",
   "execution_count": null,
   "metadata": {},
   "outputs": [],
   "source": [
    "# Referenced: https://stackoverflow.com/questions/52195887/counting-unique-pairs-of-numbers-into-a-python-dictionary\n",
    "from itertools import combinations\n",
    "from collections import Counter\n",
    "\n",
    "count = Counter()\n",
    "\n",
    "for row in df2['Grouped']:\n",
    "    row_list = row.split(',')\n",
    "    count.update(Counter(combinations(row_list, 2)))\n",
    "\n",
    "for key,value in count.most_common(10):\n",
    "    print(key, value)\n"
   ]
  },
  {
   "cell_type": "markdown",
   "metadata": {},
   "source": [
    "#### What product sold the most? Why do you think it sold the most?"
   ]
  },
  {
   "cell_type": "code",
   "execution_count": null,
   "metadata": {},
   "outputs": [],
   "source": [
    "product_group = all_data.groupby('Product')\n",
    "quantity_ordered = product_group.sum()['Quantity Ordered']\n",
    "\n",
    "keys = [pair for pair, df in product_group]\n",
    "plt.bar(keys, quantity_ordered)\n",
    "plt.xticks(keys, rotation='vertical', size=8)\n",
    "plt.show()"
   ]
  },
  {
   "cell_type": "code",
   "execution_count": null,
   "metadata": {},
   "outputs": [],
   "source": [
    "# Referenced: https://stackoverflow.com/questions/14762181/adding-a-y-axis-label-to-secondary-y-axis-in-matplotlib\n",
    "\n",
    "prices = all_data.groupby('Product').mean()['Price Each']\n",
    "\n",
    "fig, ax1 = plt.subplots()\n",
    "\n",
    "ax2 = ax1.twinx()\n",
    "ax1.bar(keys, quantity_ordered, color='g')\n",
    "ax2.plot(keys, prices, color='b')\n",
    "\n",
    "ax1.set_xlabel('Product Name')\n",
    "ax1.set_ylabel('Quantity Ordered', color='g')\n",
    "ax2.set_ylabel('Price ($)', color='b')\n",
    "ax1.set_xticklabels(keys, rotation='vertical', size=8)\n",
    "\n",
    "fig.show()"
   ]
  },
  {
   "cell_type": "code",
   "execution_count": null,
   "metadata": {},
   "outputs": [],
   "source": []
  }
 ],
 "metadata": {
  "kernelspec": {
   "display_name": "Python 3",
   "language": "python",
   "name": "python3"
  },
  "language_info": {
   "codemirror_mode": {
    "name": "ipython",
    "version": 3
   },
   "file_extension": ".py",
   "mimetype": "text/x-python",
   "name": "python",
   "nbconvert_exporter": "python",
   "pygments_lexer": "ipython3",
   "version": "3.8.8"
  }
 },
 "nbformat": 4,
 "nbformat_minor": 2
}
